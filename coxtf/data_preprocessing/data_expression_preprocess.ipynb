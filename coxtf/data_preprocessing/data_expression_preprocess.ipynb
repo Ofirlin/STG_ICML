{
 "cells": [
  {
   "cell_type": "markdown",
   "metadata": {},
   "source": [
    "http://theoncologist.alphamedpress.org/content/12/6/631.full\n",
    "\n",
    "\"Relative expression levels of the 16 genes are measured in relationship to average expression levels of five reference genes. While a majority of the genes comprising these 16 genes are estrogen receptor (ESR1, PGR, BCL2, SCUBE2) and proliferation (Ki67, STK15, Survivin, CCNB1, MYBL2) related, there are other genes (HER-2, GRB7, MMP11, CTSL2, GSTM1, CD68, BACG1).\"\n",
    "\n",
    "### estrogen receptor: \n",
    "\n",
    "ESR1, PGR, BCL2, SCUBE2 are all Hugo Symbol.\n",
    "\n",
    "### proliferation related genes:\n",
    "\n",
    "- Ki67 = MKI67\n",
    "- STK15 = AURKA\n",
    "- Survivin = BIRC5\n",
    "- CCNB1 is alaredy in Hugo Symbol.\n",
    "- MYBL2 is alaredy in Hugo Symbol.\n",
    "\n",
    "\n",
    "\n",
    "- HER-2 = ERBB2\n",
    "- GRB7 is already in Hugo Symbol.\n",
    "- MMP11 is already in Hugo Symbol.\n",
    "- CTSL2 is already in Hugo Symbol.\n",
    "\n",
    "### other cancer related genes\n",
    "\n",
    "- GSTM1 is already in Hugo Symbol.\n",
    "- CD68 is already in Hugo Symbol.\n",
    "- BAG1 is already in Hugo Symbol "
   ]
  },
  {
   "cell_type": "code",
   "execution_count": 2,
   "metadata": {
    "collapsed": true
   },
   "outputs": [],
   "source": [
    "import pandas as pd"
   ]
  },
  {
   "cell_type": "code",
   "execution_count": 1,
   "metadata": {
    "collapsed": true
   },
   "outputs": [],
   "source": [
    "datapath = '/Users/yutaro/GoogleDrive/github/BayesianFeature/data_preprocessing/metabric_random_subset_plus_oncotype.csv'"
   ]
  },
  {
   "cell_type": "code",
   "execution_count": 3,
   "metadata": {
    "collapsed": true
   },
   "outputs": [],
   "source": [
    "metabric_ori = pd.read_csv(datapath, sep=',')"
   ]
  },
  {
   "cell_type": "code",
   "execution_count": 4,
   "metadata": {},
   "outputs": [
    {
     "data": {
      "text/plain": [
       "0      ILMN_1655684\n",
       "1      ILMN_2398039\n",
       "2      ILMN_1668432\n",
       "3      ILMN_1898136\n",
       "4      ILMN_1850500\n",
       "5      ILMN_2349393\n",
       "6      ILMN_1828285\n",
       "7      ILMN_1835012\n",
       "8      ILMN_1840288\n",
       "9      ILMN_1776158\n",
       "10     ILMN_1742993\n",
       "11     ILMN_1672205\n",
       "12     ILMN_1803973\n",
       "13     ILMN_1746164\n",
       "14     ILMN_2319292\n",
       "15     ILMN_1665117\n",
       "16     ILMN_1703034\n",
       "17     ILMN_2331232\n",
       "18     ILMN_1707380\n",
       "19     ILMN_1668586\n",
       "20     ILMN_1811699\n",
       "21     ILMN_2313821\n",
       "22     ILMN_2250445\n",
       "23     ILMN_2272074\n",
       "24     ILMN_2293067\n",
       "25     ILMN_1697557\n",
       "26     ILMN_1697704\n",
       "27     ILMN_1734748\n",
       "28     ILMN_1741244\n",
       "29     ILMN_2374362\n",
       "           ...     \n",
       "170    ILMN_2041788\n",
       "171    ILMN_1683113\n",
       "172    ILMN_1775761\n",
       "173    ILMN_1905662\n",
       "174    ILMN_1741288\n",
       "175    ILMN_1686165\n",
       "176    ILMN_2221507\n",
       "177    ILMN_1898949\n",
       "178    ILMN_1740589\n",
       "179    ILMN_2054576\n",
       "180    ILMN_1738832\n",
       "181    ILMN_1661076\n",
       "182    ILMN_1781290\n",
       "183    ILMN_1745499\n",
       "184    ILMN_1655312\n",
       "185    ILMN_1827277\n",
       "186    ILMN_1781073\n",
       "187    ILMN_1700549\n",
       "188    ILMN_1900326\n",
       "189    ILMN_1748801\n",
       "190    ILMN_1676844\n",
       "191    ILMN_1717722\n",
       "192    ILMN_1791820\n",
       "193    ILMN_1765459\n",
       "194    ILMN_1842346\n",
       "195    ILMN_2081673\n",
       "196    ILMN_1785618\n",
       "197    ILMN_1343565\n",
       "198    ILMN_1343643\n",
       "199    ILMN_1343642\n",
       "Name: Unnamed: 0, Length: 200, dtype: object"
      ]
     },
     "execution_count": 4,
     "metadata": {},
     "output_type": "execute_result"
    }
   ],
   "source": [
    "metabric_ori['Unnamed: 0']"
   ]
  },
  {
   "cell_type": "code",
   "execution_count": 107,
   "metadata": {
    "collapsed": true
   },
   "outputs": [],
   "source": [
    "prob_to_hugo = {'ILMN_1678535':'ESR1', 'ILMN_1811014':'PGR',\n",
    "        'ILMN_1701120':'BCL2','ILMN_1697970':'BCL2','ILMN_1801119':'BCL2',\n",
    "        'ILMN_1684085':'SCUBE2', 'ILMN_1734827':'MKI67', 'ILMN_1680955':'AURKA',\n",
    "        'ILMN_1710082':'BIRC5', 'ILMN_1712803':'CCNB1', 'ILMN_1709020':'MYBL2',\n",
    "        'ILMN_1717902':'ERBB2', 'ILMN_1798582':'GRB7','ILMN_1740762':'GRB7',\n",
    "        'ILMN_1749226':'MMP11', 'ILMN_1748352':'CTSL2',\n",
    "        'ILMN_1762255':'GSTM1', 'ILMN_1668134':'GSTM1', 'ILMN_1714861':'CD68',\n",
    "        'ILMN_1733970':'BAG1'}"
   ]
  },
  {
   "cell_type": "markdown",
   "metadata": {},
   "source": [
    "SCUBE2, BIRC5, MMP11 are not in matabric_exp.txt"
   ]
  },
  {
   "cell_type": "code",
   "execution_count": 110,
   "metadata": {},
   "outputs": [
    {
     "name": "stdout",
     "output_type": "stream",
     "text": [
      "CCNB1\n",
      "BCL2\n",
      "GRB7\n",
      "GRB7\n",
      "PGR\n",
      "AURKA\n",
      "CTSL2\n",
      "ERBB2\n",
      "BCL2\n",
      "CD68\n",
      "MYBL2\n",
      "MKI67\n",
      "ESR1\n",
      "BAG1\n",
      "GSTM1\n",
      "GSTM1\n"
     ]
    }
   ],
   "source": [
    "for i in metabric_ori['Unnamed: 0']:\n",
    "    print(prob_to_hugo[i]) \n",
    "    "
   ]
  },
  {
   "cell_type": "code",
   "execution_count": 17,
   "metadata": {
    "collapsed": true
   },
   "outputs": [],
   "source": [
    "metabric_expression = pd.read_csv(datapath, sep=',') #.set_index('Hugo_Symbol').transpose().drop('Entrez_Gene_Id')"
   ]
  },
  {
   "cell_type": "code",
   "execution_count": 18,
   "metadata": {},
   "outputs": [
    {
     "data": {
      "text/html": [
       "<div>\n",
       "<style>\n",
       "    .dataframe thead tr:only-child th {\n",
       "        text-align: right;\n",
       "    }\n",
       "\n",
       "    .dataframe thead th {\n",
       "        text-align: left;\n",
       "    }\n",
       "\n",
       "    .dataframe tbody tr th {\n",
       "        vertical-align: top;\n",
       "    }\n",
       "</style>\n",
       "<table border=\"1\" class=\"dataframe\">\n",
       "  <thead>\n",
       "    <tr style=\"text-align: right;\">\n",
       "      <th></th>\n",
       "      <th>Unnamed: 0</th>\n",
       "      <th>MB-0000</th>\n",
       "      <th>MB-0002</th>\n",
       "      <th>MB-0005</th>\n",
       "      <th>MB-0006</th>\n",
       "      <th>MB-0008</th>\n",
       "      <th>MB-0010</th>\n",
       "      <th>MB-0014</th>\n",
       "      <th>MB-0020</th>\n",
       "      <th>MB-0022</th>\n",
       "      <th>...</th>\n",
       "      <th>MB-7289</th>\n",
       "      <th>MB-7291</th>\n",
       "      <th>MB-7292</th>\n",
       "      <th>MB-7293</th>\n",
       "      <th>MB-7294</th>\n",
       "      <th>MB-7295</th>\n",
       "      <th>MB-7296</th>\n",
       "      <th>MB-7297</th>\n",
       "      <th>MB-7298</th>\n",
       "      <th>MB-7299</th>\n",
       "    </tr>\n",
       "  </thead>\n",
       "  <tbody>\n",
       "    <tr>\n",
       "      <th>0</th>\n",
       "      <td>ILMN_1712803</td>\n",
       "      <td>7.566248</td>\n",
       "      <td>8.234769</td>\n",
       "      <td>8.039011</td>\n",
       "      <td>8.092238</td>\n",
       "      <td>8.415585</td>\n",
       "      <td>9.441947</td>\n",
       "      <td>7.377896</td>\n",
       "      <td>8.129803</td>\n",
       "      <td>7.957244</td>\n",
       "      <td>...</td>\n",
       "      <td>7.490149</td>\n",
       "      <td>9.267474</td>\n",
       "      <td>8.673989</td>\n",
       "      <td>7.987161</td>\n",
       "      <td>8.238265</td>\n",
       "      <td>8.343426</td>\n",
       "      <td>10.313008</td>\n",
       "      <td>9.167447</td>\n",
       "      <td>9.141524</td>\n",
       "      <td>8.292088</td>\n",
       "    </tr>\n",
       "    <tr>\n",
       "      <th>1</th>\n",
       "      <td>ILMN_1801119</td>\n",
       "      <td>9.194468</td>\n",
       "      <td>9.347922</td>\n",
       "      <td>7.898182</td>\n",
       "      <td>8.375892</td>\n",
       "      <td>7.529758</td>\n",
       "      <td>7.633688</td>\n",
       "      <td>8.423105</td>\n",
       "      <td>7.519424</td>\n",
       "      <td>7.711814</td>\n",
       "      <td>...</td>\n",
       "      <td>8.105384</td>\n",
       "      <td>8.051600</td>\n",
       "      <td>7.838903</td>\n",
       "      <td>8.674428</td>\n",
       "      <td>9.250107</td>\n",
       "      <td>8.243982</td>\n",
       "      <td>7.056036</td>\n",
       "      <td>8.169844</td>\n",
       "      <td>8.699038</td>\n",
       "      <td>9.466155</td>\n",
       "    </tr>\n",
       "    <tr>\n",
       "      <th>2</th>\n",
       "      <td>ILMN_1798582</td>\n",
       "      <td>5.446027</td>\n",
       "      <td>5.215258</td>\n",
       "      <td>5.370917</td>\n",
       "      <td>5.807287</td>\n",
       "      <td>5.248290</td>\n",
       "      <td>5.196820</td>\n",
       "      <td>5.485749</td>\n",
       "      <td>5.329218</td>\n",
       "      <td>5.413597</td>\n",
       "      <td>...</td>\n",
       "      <td>5.515532</td>\n",
       "      <td>5.848470</td>\n",
       "      <td>5.427589</td>\n",
       "      <td>4.998609</td>\n",
       "      <td>5.436549</td>\n",
       "      <td>5.216262</td>\n",
       "      <td>7.018904</td>\n",
       "      <td>5.431922</td>\n",
       "      <td>5.023287</td>\n",
       "      <td>5.066947</td>\n",
       "    </tr>\n",
       "    <tr>\n",
       "      <th>3</th>\n",
       "      <td>ILMN_1740762</td>\n",
       "      <td>5.783666</td>\n",
       "      <td>5.619311</td>\n",
       "      <td>5.815330</td>\n",
       "      <td>6.870478</td>\n",
       "      <td>5.807233</td>\n",
       "      <td>5.424632</td>\n",
       "      <td>5.672798</td>\n",
       "      <td>6.070664</td>\n",
       "      <td>5.566895</td>\n",
       "      <td>...</td>\n",
       "      <td>5.608964</td>\n",
       "      <td>7.631197</td>\n",
       "      <td>5.577279</td>\n",
       "      <td>5.621334</td>\n",
       "      <td>5.995631</td>\n",
       "      <td>5.643665</td>\n",
       "      <td>9.230390</td>\n",
       "      <td>5.487706</td>\n",
       "      <td>5.279934</td>\n",
       "      <td>5.342260</td>\n",
       "    </tr>\n",
       "    <tr>\n",
       "      <th>4</th>\n",
       "      <td>ILMN_1811014</td>\n",
       "      <td>6.438076</td>\n",
       "      <td>7.915855</td>\n",
       "      <td>8.010756</td>\n",
       "      <td>7.213844</td>\n",
       "      <td>7.905295</td>\n",
       "      <td>6.430311</td>\n",
       "      <td>8.329426</td>\n",
       "      <td>6.261636</td>\n",
       "      <td>5.587786</td>\n",
       "      <td>...</td>\n",
       "      <td>7.220279</td>\n",
       "      <td>5.679176</td>\n",
       "      <td>7.384622</td>\n",
       "      <td>6.901147</td>\n",
       "      <td>7.808446</td>\n",
       "      <td>8.597789</td>\n",
       "      <td>6.166385</td>\n",
       "      <td>7.870488</td>\n",
       "      <td>8.721391</td>\n",
       "      <td>5.898142</td>\n",
       "    </tr>\n",
       "  </tbody>\n",
       "</table>\n",
       "<p>5 rows × 1982 columns</p>\n",
       "</div>"
      ],
      "text/plain": [
       "     Unnamed: 0   MB-0000   MB-0002   MB-0005   MB-0006   MB-0008   MB-0010  \\\n",
       "0  ILMN_1712803  7.566248  8.234769  8.039011  8.092238  8.415585  9.441947   \n",
       "1  ILMN_1801119  9.194468  9.347922  7.898182  8.375892  7.529758  7.633688   \n",
       "2  ILMN_1798582  5.446027  5.215258  5.370917  5.807287  5.248290  5.196820   \n",
       "3  ILMN_1740762  5.783666  5.619311  5.815330  6.870478  5.807233  5.424632   \n",
       "4  ILMN_1811014  6.438076  7.915855  8.010756  7.213844  7.905295  6.430311   \n",
       "\n",
       "    MB-0014   MB-0020   MB-0022    ...      MB-7289   MB-7291   MB-7292  \\\n",
       "0  7.377896  8.129803  7.957244    ...     7.490149  9.267474  8.673989   \n",
       "1  8.423105  7.519424  7.711814    ...     8.105384  8.051600  7.838903   \n",
       "2  5.485749  5.329218  5.413597    ...     5.515532  5.848470  5.427589   \n",
       "3  5.672798  6.070664  5.566895    ...     5.608964  7.631197  5.577279   \n",
       "4  8.329426  6.261636  5.587786    ...     7.220279  5.679176  7.384622   \n",
       "\n",
       "    MB-7293   MB-7294   MB-7295    MB-7296   MB-7297   MB-7298   MB-7299  \n",
       "0  7.987161  8.238265  8.343426  10.313008  9.167447  9.141524  8.292088  \n",
       "1  8.674428  9.250107  8.243982   7.056036  8.169844  8.699038  9.466155  \n",
       "2  4.998609  5.436549  5.216262   7.018904  5.431922  5.023287  5.066947  \n",
       "3  5.621334  5.995631  5.643665   9.230390  5.487706  5.279934  5.342260  \n",
       "4  6.901147  7.808446  8.597789   6.166385  7.870488  8.721391  5.898142  \n",
       "\n",
       "[5 rows x 1982 columns]"
      ]
     },
     "execution_count": 18,
     "metadata": {},
     "output_type": "execute_result"
    }
   ],
   "source": [
    "metabric_expression.head() "
   ]
  },
  {
   "cell_type": "code",
   "execution_count": 8,
   "metadata": {
    "collapsed": true
   },
   "outputs": [],
   "source": [
    "cln_path = '/Users/yutaro/Desktop/Metabric/metabric_cln.txt'\n",
    "cln_data = pd.read_csv(cln_path, sep='\\t')"
   ]
  },
  {
   "cell_type": "code",
   "execution_count": 9,
   "metadata": {},
   "outputs": [
    {
     "data": {
      "text/html": [
       "<div>\n",
       "<style>\n",
       "    .dataframe thead tr:only-child th {\n",
       "        text-align: right;\n",
       "    }\n",
       "\n",
       "    .dataframe thead th {\n",
       "        text-align: left;\n",
       "    }\n",
       "\n",
       "    .dataframe tbody tr th {\n",
       "        vertical-align: top;\n",
       "    }\n",
       "</style>\n",
       "<table border=\"1\" class=\"dataframe\">\n",
       "  <thead>\n",
       "    <tr style=\"text-align: right;\">\n",
       "      <th></th>\n",
       "      <th>ageDiagnosis</th>\n",
       "      <th>lymphnodes</th>\n",
       "      <th>grade</th>\n",
       "      <th>histology</th>\n",
       "      <th>tumorSizeCM</th>\n",
       "      <th>chemo</th>\n",
       "      <th>hormone</th>\n",
       "      <th>radiation</th>\n",
       "      <th>HER2</th>\n",
       "      <th>ER</th>\n",
       "      <th>PR</th>\n",
       "      <th>ERPR</th>\n",
       "      <th>tripleNegative</th>\n",
       "    </tr>\n",
       "  </thead>\n",
       "  <tbody>\n",
       "    <tr>\n",
       "      <th>MB-0000</th>\n",
       "      <td>75.65</td>\n",
       "      <td>10.0</td>\n",
       "      <td>3.0</td>\n",
       "      <td>IDC</td>\n",
       "      <td>22.0</td>\n",
       "      <td>0</td>\n",
       "      <td>1</td>\n",
       "      <td>1</td>\n",
       "      <td>neg</td>\n",
       "      <td>pos</td>\n",
       "      <td>neg</td>\n",
       "      <td>pos</td>\n",
       "      <td>0</td>\n",
       "    </tr>\n",
       "    <tr>\n",
       "      <th>MB-0002</th>\n",
       "      <td>43.19</td>\n",
       "      <td>0.0</td>\n",
       "      <td>3.0</td>\n",
       "      <td>IDC</td>\n",
       "      <td>10.0</td>\n",
       "      <td>0</td>\n",
       "      <td>1</td>\n",
       "      <td>1</td>\n",
       "      <td>neg</td>\n",
       "      <td>pos</td>\n",
       "      <td>pos</td>\n",
       "      <td>pos</td>\n",
       "      <td>0</td>\n",
       "    </tr>\n",
       "    <tr>\n",
       "      <th>MB-0005</th>\n",
       "      <td>48.87</td>\n",
       "      <td>1.0</td>\n",
       "      <td>2.0</td>\n",
       "      <td>IDC</td>\n",
       "      <td>15.0</td>\n",
       "      <td>1</td>\n",
       "      <td>1</td>\n",
       "      <td>0</td>\n",
       "      <td>neg</td>\n",
       "      <td>pos</td>\n",
       "      <td>pos</td>\n",
       "      <td>pos</td>\n",
       "      <td>0</td>\n",
       "    </tr>\n",
       "    <tr>\n",
       "      <th>MB-0006</th>\n",
       "      <td>47.68</td>\n",
       "      <td>3.0</td>\n",
       "      <td>2.0</td>\n",
       "      <td>IDC</td>\n",
       "      <td>25.0</td>\n",
       "      <td>1</td>\n",
       "      <td>1</td>\n",
       "      <td>1</td>\n",
       "      <td>neg</td>\n",
       "      <td>pos</td>\n",
       "      <td>pos</td>\n",
       "      <td>pos</td>\n",
       "      <td>0</td>\n",
       "    </tr>\n",
       "    <tr>\n",
       "      <th>MB-0008</th>\n",
       "      <td>76.97</td>\n",
       "      <td>8.0</td>\n",
       "      <td>3.0</td>\n",
       "      <td>IDC</td>\n",
       "      <td>40.0</td>\n",
       "      <td>1</td>\n",
       "      <td>1</td>\n",
       "      <td>1</td>\n",
       "      <td>neg</td>\n",
       "      <td>pos</td>\n",
       "      <td>pos</td>\n",
       "      <td>pos</td>\n",
       "      <td>0</td>\n",
       "    </tr>\n",
       "  </tbody>\n",
       "</table>\n",
       "</div>"
      ],
      "text/plain": [
       "         ageDiagnosis  lymphnodes  grade histology  tumorSizeCM  chemo  \\\n",
       "MB-0000         75.65        10.0    3.0       IDC         22.0      0   \n",
       "MB-0002         43.19         0.0    3.0       IDC         10.0      0   \n",
       "MB-0005         48.87         1.0    2.0       IDC         15.0      1   \n",
       "MB-0006         47.68         3.0    2.0       IDC         25.0      1   \n",
       "MB-0008         76.97         8.0    3.0       IDC         40.0      1   \n",
       "\n",
       "         hormone  radiation HER2   ER   PR ERPR  tripleNegative  \n",
       "MB-0000        1          1  neg  pos  neg  pos               0  \n",
       "MB-0002        1          1  neg  pos  pos  pos               0  \n",
       "MB-0005        1          0  neg  pos  pos  pos               0  \n",
       "MB-0006        1          1  neg  pos  pos  pos               0  \n",
       "MB-0008        1          1  neg  pos  pos  pos               0  "
      ]
     },
     "execution_count": 9,
     "metadata": {},
     "output_type": "execute_result"
    }
   ],
   "source": [
    "cln_data.head() "
   ]
  },
  {
   "cell_type": "code",
   "execution_count": 10,
   "metadata": {
    "collapsed": true
   },
   "outputs": [],
   "source": [
    "cln_selected = cln_data[['ageDiagnosis', 'chemo', 'hormone', 'radiation', 'ER']] "
   ]
  },
  {
   "cell_type": "code",
   "execution_count": 12,
   "metadata": {},
   "outputs": [
    {
     "data": {
      "text/html": [
       "<div>\n",
       "<style>\n",
       "    .dataframe thead tr:only-child th {\n",
       "        text-align: right;\n",
       "    }\n",
       "\n",
       "    .dataframe thead th {\n",
       "        text-align: left;\n",
       "    }\n",
       "\n",
       "    .dataframe tbody tr th {\n",
       "        vertical-align: top;\n",
       "    }\n",
       "</style>\n",
       "<table border=\"1\" class=\"dataframe\">\n",
       "  <thead>\n",
       "    <tr style=\"text-align: right;\">\n",
       "      <th></th>\n",
       "      <th>ageDiagnosis</th>\n",
       "      <th>chemo</th>\n",
       "      <th>hormone</th>\n",
       "      <th>radiation</th>\n",
       "      <th>ER</th>\n",
       "    </tr>\n",
       "  </thead>\n",
       "  <tbody>\n",
       "    <tr>\n",
       "      <th>MB-0000</th>\n",
       "      <td>75.65</td>\n",
       "      <td>0</td>\n",
       "      <td>1</td>\n",
       "      <td>1</td>\n",
       "      <td>pos</td>\n",
       "    </tr>\n",
       "    <tr>\n",
       "      <th>MB-0002</th>\n",
       "      <td>43.19</td>\n",
       "      <td>0</td>\n",
       "      <td>1</td>\n",
       "      <td>1</td>\n",
       "      <td>pos</td>\n",
       "    </tr>\n",
       "    <tr>\n",
       "      <th>MB-0005</th>\n",
       "      <td>48.87</td>\n",
       "      <td>1</td>\n",
       "      <td>1</td>\n",
       "      <td>0</td>\n",
       "      <td>pos</td>\n",
       "    </tr>\n",
       "    <tr>\n",
       "      <th>MB-0006</th>\n",
       "      <td>47.68</td>\n",
       "      <td>1</td>\n",
       "      <td>1</td>\n",
       "      <td>1</td>\n",
       "      <td>pos</td>\n",
       "    </tr>\n",
       "    <tr>\n",
       "      <th>MB-0008</th>\n",
       "      <td>76.97</td>\n",
       "      <td>1</td>\n",
       "      <td>1</td>\n",
       "      <td>1</td>\n",
       "      <td>pos</td>\n",
       "    </tr>\n",
       "  </tbody>\n",
       "</table>\n",
       "</div>"
      ],
      "text/plain": [
       "         ageDiagnosis  chemo  hormone  radiation   ER\n",
       "MB-0000         75.65      0        1          1  pos\n",
       "MB-0002         43.19      0        1          1  pos\n",
       "MB-0005         48.87      1        1          0  pos\n",
       "MB-0006         47.68      1        1          1  pos\n",
       "MB-0008         76.97      1        1          1  pos"
      ]
     },
     "execution_count": 12,
     "metadata": {},
     "output_type": "execute_result"
    }
   ],
   "source": [
    "cln_selected.head()"
   ]
  },
  {
   "cell_type": "code",
   "execution_count": 37,
   "metadata": {},
   "outputs": [
    {
     "data": {
      "text/plain": [
       "pos    1512\n",
       "neg     469\n",
       "Name: ER, dtype: int64"
      ]
     },
     "execution_count": 37,
     "metadata": {},
     "output_type": "execute_result"
    }
   ],
   "source": [
    "cln_selected['ER'].value_counts() "
   ]
  },
  {
   "cell_type": "code",
   "execution_count": 40,
   "metadata": {},
   "outputs": [
    {
     "name": "stderr",
     "output_type": "stream",
     "text": [
      "/Users/yutaro/.pyenv/versions/3.5.2/lib/python3.5/site-packages/ipykernel/__main__.py:3: SettingWithCopyWarning: \n",
      "A value is trying to be set on a copy of a slice from a DataFrame.\n",
      "Try using .loc[row_indexer,col_indexer] = value instead\n",
      "\n",
      "See the caveats in the documentation: http://pandas.pydata.org/pandas-docs/stable/indexing.html#indexing-view-versus-copy\n",
      "  app.launch_new_instance()\n"
     ]
    }
   ],
   "source": [
    "#TODO # Write a code that converts pos = 1 and neg = 0?\n",
    "d = {'pos': 1, 'neg': 0}\n",
    "cln_selected['ER'] = cln_selected['ER'].map(d)"
   ]
  },
  {
   "cell_type": "code",
   "execution_count": 42,
   "metadata": {},
   "outputs": [
    {
     "data": {
      "text/plain": [
       "1    1512\n",
       "0     469\n",
       "Name: ER, dtype: int64"
      ]
     },
     "execution_count": 42,
     "metadata": {},
     "output_type": "execute_result"
    }
   ],
   "source": [
    "cln_selected['ER'].value_counts()"
   ]
  },
  {
   "cell_type": "code",
   "execution_count": 19,
   "metadata": {
    "collapsed": true
   },
   "outputs": [],
   "source": [
    "metabric_expression = metabric_expression.transpose()"
   ]
  },
  {
   "cell_type": "code",
   "execution_count": 22,
   "metadata": {},
   "outputs": [
    {
     "data": {
      "text/plain": [
       "(1982, 16)"
      ]
     },
     "execution_count": 22,
     "metadata": {},
     "output_type": "execute_result"
    }
   ],
   "source": [
    "metabric_expression.rename(columns=metabric_expression.iloc[0])\n",
    "metabric_expression.shape"
   ]
  },
  {
   "cell_type": "code",
   "execution_count": 23,
   "metadata": {
    "collapsed": true
   },
   "outputs": [],
   "source": [
    "metabric_expression = metabric_expression.iloc[1:]"
   ]
  },
  {
   "cell_type": "code",
   "execution_count": 24,
   "metadata": {},
   "outputs": [
    {
     "data": {
      "text/html": [
       "<div>\n",
       "<style>\n",
       "    .dataframe thead tr:only-child th {\n",
       "        text-align: right;\n",
       "    }\n",
       "\n",
       "    .dataframe thead th {\n",
       "        text-align: left;\n",
       "    }\n",
       "\n",
       "    .dataframe tbody tr th {\n",
       "        vertical-align: top;\n",
       "    }\n",
       "</style>\n",
       "<table border=\"1\" class=\"dataframe\">\n",
       "  <thead>\n",
       "    <tr style=\"text-align: right;\">\n",
       "      <th></th>\n",
       "      <th>0</th>\n",
       "      <th>1</th>\n",
       "      <th>2</th>\n",
       "      <th>3</th>\n",
       "      <th>4</th>\n",
       "      <th>5</th>\n",
       "      <th>6</th>\n",
       "      <th>7</th>\n",
       "      <th>8</th>\n",
       "      <th>9</th>\n",
       "      <th>10</th>\n",
       "      <th>11</th>\n",
       "      <th>12</th>\n",
       "      <th>13</th>\n",
       "      <th>14</th>\n",
       "      <th>15</th>\n",
       "    </tr>\n",
       "  </thead>\n",
       "  <tbody>\n",
       "    <tr>\n",
       "      <th>MB-0000</th>\n",
       "      <td>7.56625</td>\n",
       "      <td>9.19447</td>\n",
       "      <td>5.44603</td>\n",
       "      <td>5.78367</td>\n",
       "      <td>6.43808</td>\n",
       "      <td>7.24338</td>\n",
       "      <td>7.30177</td>\n",
       "      <td>5.53646</td>\n",
       "      <td>5.90122</td>\n",
       "      <td>11.3742</td>\n",
       "      <td>5.6473</td>\n",
       "      <td>5.27435</td>\n",
       "      <td>10.2682</td>\n",
       "      <td>6.39123</td>\n",
       "      <td>5.02734</td>\n",
       "      <td>6.29454</td>\n",
       "    </tr>\n",
       "    <tr>\n",
       "      <th>MB-0002</th>\n",
       "      <td>8.23477</td>\n",
       "      <td>9.34792</td>\n",
       "      <td>5.21526</td>\n",
       "      <td>5.61931</td>\n",
       "      <td>7.91585</td>\n",
       "      <td>8.2593</td>\n",
       "      <td>7.18956</td>\n",
       "      <td>5.55862</td>\n",
       "      <td>5.79704</td>\n",
       "      <td>10.4962</td>\n",
       "      <td>5.67313</td>\n",
       "      <td>5.37565</td>\n",
       "      <td>11.9983</td>\n",
       "      <td>6.6803</td>\n",
       "      <td>4.76558</td>\n",
       "      <td>6.00359</td>\n",
       "    </tr>\n",
       "    <tr>\n",
       "      <th>MB-0005</th>\n",
       "      <td>8.03901</td>\n",
       "      <td>7.89818</td>\n",
       "      <td>5.37092</td>\n",
       "      <td>5.81533</td>\n",
       "      <td>8.01076</td>\n",
       "      <td>8.30575</td>\n",
       "      <td>7.18584</td>\n",
       "      <td>5.37179</td>\n",
       "      <td>5.62684</td>\n",
       "      <td>11.5534</td>\n",
       "      <td>5.978</td>\n",
       "      <td>5.46028</td>\n",
       "      <td>11.9254</td>\n",
       "      <td>6.31532</td>\n",
       "      <td>3.00262</td>\n",
       "      <td>4.58987</td>\n",
       "    </tr>\n",
       "    <tr>\n",
       "      <th>MB-0006</th>\n",
       "      <td>8.09224</td>\n",
       "      <td>8.37589</td>\n",
       "      <td>5.80729</td>\n",
       "      <td>6.87048</td>\n",
       "      <td>7.21384</td>\n",
       "      <td>9.81603</td>\n",
       "      <td>6.50151</td>\n",
       "      <td>5.57149</td>\n",
       "      <td>6.40958</td>\n",
       "      <td>11.7158</td>\n",
       "      <td>5.86563</td>\n",
       "      <td>5.55256</td>\n",
       "      <td>10.4372</td>\n",
       "      <td>6.70351</td>\n",
       "      <td>5.50968</td>\n",
       "      <td>6.42802</td>\n",
       "    </tr>\n",
       "    <tr>\n",
       "      <th>MB-0008</th>\n",
       "      <td>8.41559</td>\n",
       "      <td>7.52976</td>\n",
       "      <td>5.24829</td>\n",
       "      <td>5.80723</td>\n",
       "      <td>7.9053</td>\n",
       "      <td>9.23063</td>\n",
       "      <td>6.45983</td>\n",
       "      <td>5.65532</td>\n",
       "      <td>5.78461</td>\n",
       "      <td>11.719</td>\n",
       "      <td>5.43641</td>\n",
       "      <td>5.44125</td>\n",
       "      <td>12.6027</td>\n",
       "      <td>6.20124</td>\n",
       "      <td>4.62522</td>\n",
       "      <td>5.65834</td>\n",
       "    </tr>\n",
       "  </tbody>\n",
       "</table>\n",
       "</div>"
      ],
      "text/plain": [
       "              0        1        2        3        4        5        6   \\\n",
       "MB-0000  7.56625  9.19447  5.44603  5.78367  6.43808  7.24338  7.30177   \n",
       "MB-0002  8.23477  9.34792  5.21526  5.61931  7.91585   8.2593  7.18956   \n",
       "MB-0005  8.03901  7.89818  5.37092  5.81533  8.01076  8.30575  7.18584   \n",
       "MB-0006  8.09224  8.37589  5.80729  6.87048  7.21384  9.81603  6.50151   \n",
       "MB-0008  8.41559  7.52976  5.24829  5.80723   7.9053  9.23063  6.45983   \n",
       "\n",
       "              7        8        9        10       11       12       13  \\\n",
       "MB-0000  5.53646  5.90122  11.3742   5.6473  5.27435  10.2682  6.39123   \n",
       "MB-0002  5.55862  5.79704  10.4962  5.67313  5.37565  11.9983   6.6803   \n",
       "MB-0005  5.37179  5.62684  11.5534    5.978  5.46028  11.9254  6.31532   \n",
       "MB-0006  5.57149  6.40958  11.7158  5.86563  5.55256  10.4372  6.70351   \n",
       "MB-0008  5.65532  5.78461   11.719  5.43641  5.44125  12.6027  6.20124   \n",
       "\n",
       "              14       15  \n",
       "MB-0000  5.02734  6.29454  \n",
       "MB-0002  4.76558  6.00359  \n",
       "MB-0005  3.00262  4.58987  \n",
       "MB-0006  5.50968  6.42802  \n",
       "MB-0008  4.62522  5.65834  "
      ]
     },
     "execution_count": 24,
     "metadata": {},
     "output_type": "execute_result"
    }
   ],
   "source": [
    "metabric_expression.head()"
   ]
  },
  {
   "cell_type": "code",
   "execution_count": 25,
   "metadata": {},
   "outputs": [
    {
     "data": {
      "text/plain": [
       "(1981, 16)"
      ]
     },
     "execution_count": 25,
     "metadata": {},
     "output_type": "execute_result"
    }
   ],
   "source": [
    "metabric_expression.shape"
   ]
  },
  {
   "cell_type": "code",
   "execution_count": 54,
   "metadata": {
    "collapsed": true
   },
   "outputs": [],
   "source": [
    "metabric_exp_cln = metabric_expression.join(cln_selected)"
   ]
  },
  {
   "cell_type": "code",
   "execution_count": 56,
   "metadata": {},
   "outputs": [
    {
     "data": {
      "text/html": [
       "<div>\n",
       "<style>\n",
       "    .dataframe thead tr:only-child th {\n",
       "        text-align: right;\n",
       "    }\n",
       "\n",
       "    .dataframe thead th {\n",
       "        text-align: left;\n",
       "    }\n",
       "\n",
       "    .dataframe tbody tr th {\n",
       "        vertical-align: top;\n",
       "    }\n",
       "</style>\n",
       "<table border=\"1\" class=\"dataframe\">\n",
       "  <thead>\n",
       "    <tr style=\"text-align: right;\">\n",
       "      <th></th>\n",
       "      <th>0</th>\n",
       "      <th>1</th>\n",
       "      <th>2</th>\n",
       "      <th>3</th>\n",
       "      <th>4</th>\n",
       "      <th>5</th>\n",
       "      <th>6</th>\n",
       "      <th>7</th>\n",
       "      <th>8</th>\n",
       "      <th>9</th>\n",
       "      <th>...</th>\n",
       "      <th>11</th>\n",
       "      <th>12</th>\n",
       "      <th>13</th>\n",
       "      <th>14</th>\n",
       "      <th>15</th>\n",
       "      <th>ageDiagnosis</th>\n",
       "      <th>chemo</th>\n",
       "      <th>hormone</th>\n",
       "      <th>radiation</th>\n",
       "      <th>ER</th>\n",
       "    </tr>\n",
       "  </thead>\n",
       "  <tbody>\n",
       "    <tr>\n",
       "      <th>MB-0000</th>\n",
       "      <td>7.56625</td>\n",
       "      <td>9.19447</td>\n",
       "      <td>5.44603</td>\n",
       "      <td>5.78367</td>\n",
       "      <td>6.43808</td>\n",
       "      <td>7.24338</td>\n",
       "      <td>7.30177</td>\n",
       "      <td>5.53646</td>\n",
       "      <td>5.90122</td>\n",
       "      <td>11.3742</td>\n",
       "      <td>...</td>\n",
       "      <td>5.27435</td>\n",
       "      <td>10.2682</td>\n",
       "      <td>6.39123</td>\n",
       "      <td>5.02734</td>\n",
       "      <td>6.29454</td>\n",
       "      <td>75.65</td>\n",
       "      <td>0</td>\n",
       "      <td>1</td>\n",
       "      <td>1</td>\n",
       "      <td>1</td>\n",
       "    </tr>\n",
       "    <tr>\n",
       "      <th>MB-0002</th>\n",
       "      <td>8.23477</td>\n",
       "      <td>9.34792</td>\n",
       "      <td>5.21526</td>\n",
       "      <td>5.61931</td>\n",
       "      <td>7.91585</td>\n",
       "      <td>8.2593</td>\n",
       "      <td>7.18956</td>\n",
       "      <td>5.55862</td>\n",
       "      <td>5.79704</td>\n",
       "      <td>10.4962</td>\n",
       "      <td>...</td>\n",
       "      <td>5.37565</td>\n",
       "      <td>11.9983</td>\n",
       "      <td>6.6803</td>\n",
       "      <td>4.76558</td>\n",
       "      <td>6.00359</td>\n",
       "      <td>43.19</td>\n",
       "      <td>0</td>\n",
       "      <td>1</td>\n",
       "      <td>1</td>\n",
       "      <td>1</td>\n",
       "    </tr>\n",
       "    <tr>\n",
       "      <th>MB-0005</th>\n",
       "      <td>8.03901</td>\n",
       "      <td>7.89818</td>\n",
       "      <td>5.37092</td>\n",
       "      <td>5.81533</td>\n",
       "      <td>8.01076</td>\n",
       "      <td>8.30575</td>\n",
       "      <td>7.18584</td>\n",
       "      <td>5.37179</td>\n",
       "      <td>5.62684</td>\n",
       "      <td>11.5534</td>\n",
       "      <td>...</td>\n",
       "      <td>5.46028</td>\n",
       "      <td>11.9254</td>\n",
       "      <td>6.31532</td>\n",
       "      <td>3.00262</td>\n",
       "      <td>4.58987</td>\n",
       "      <td>48.87</td>\n",
       "      <td>1</td>\n",
       "      <td>1</td>\n",
       "      <td>0</td>\n",
       "      <td>1</td>\n",
       "    </tr>\n",
       "    <tr>\n",
       "      <th>MB-0006</th>\n",
       "      <td>8.09224</td>\n",
       "      <td>8.37589</td>\n",
       "      <td>5.80729</td>\n",
       "      <td>6.87048</td>\n",
       "      <td>7.21384</td>\n",
       "      <td>9.81603</td>\n",
       "      <td>6.50151</td>\n",
       "      <td>5.57149</td>\n",
       "      <td>6.40958</td>\n",
       "      <td>11.7158</td>\n",
       "      <td>...</td>\n",
       "      <td>5.55256</td>\n",
       "      <td>10.4372</td>\n",
       "      <td>6.70351</td>\n",
       "      <td>5.50968</td>\n",
       "      <td>6.42802</td>\n",
       "      <td>47.68</td>\n",
       "      <td>1</td>\n",
       "      <td>1</td>\n",
       "      <td>1</td>\n",
       "      <td>1</td>\n",
       "    </tr>\n",
       "    <tr>\n",
       "      <th>MB-0008</th>\n",
       "      <td>8.41559</td>\n",
       "      <td>7.52976</td>\n",
       "      <td>5.24829</td>\n",
       "      <td>5.80723</td>\n",
       "      <td>7.9053</td>\n",
       "      <td>9.23063</td>\n",
       "      <td>6.45983</td>\n",
       "      <td>5.65532</td>\n",
       "      <td>5.78461</td>\n",
       "      <td>11.719</td>\n",
       "      <td>...</td>\n",
       "      <td>5.44125</td>\n",
       "      <td>12.6027</td>\n",
       "      <td>6.20124</td>\n",
       "      <td>4.62522</td>\n",
       "      <td>5.65834</td>\n",
       "      <td>76.97</td>\n",
       "      <td>1</td>\n",
       "      <td>1</td>\n",
       "      <td>1</td>\n",
       "      <td>1</td>\n",
       "    </tr>\n",
       "  </tbody>\n",
       "</table>\n",
       "<p>5 rows × 21 columns</p>\n",
       "</div>"
      ],
      "text/plain": [
       "               0        1        2        3        4        5        6  \\\n",
       "MB-0000  7.56625  9.19447  5.44603  5.78367  6.43808  7.24338  7.30177   \n",
       "MB-0002  8.23477  9.34792  5.21526  5.61931  7.91585   8.2593  7.18956   \n",
       "MB-0005  8.03901  7.89818  5.37092  5.81533  8.01076  8.30575  7.18584   \n",
       "MB-0006  8.09224  8.37589  5.80729  6.87048  7.21384  9.81603  6.50151   \n",
       "MB-0008  8.41559  7.52976  5.24829  5.80723   7.9053  9.23063  6.45983   \n",
       "\n",
       "               7        8        9 ...       11       12       13       14  \\\n",
       "MB-0000  5.53646  5.90122  11.3742 ...  5.27435  10.2682  6.39123  5.02734   \n",
       "MB-0002  5.55862  5.79704  10.4962 ...  5.37565  11.9983   6.6803  4.76558   \n",
       "MB-0005  5.37179  5.62684  11.5534 ...  5.46028  11.9254  6.31532  3.00262   \n",
       "MB-0006  5.57149  6.40958  11.7158 ...  5.55256  10.4372  6.70351  5.50968   \n",
       "MB-0008  5.65532  5.78461   11.719 ...  5.44125  12.6027  6.20124  4.62522   \n",
       "\n",
       "              15 ageDiagnosis  chemo  hormone  radiation  ER  \n",
       "MB-0000  6.29454        75.65      0        1          1   1  \n",
       "MB-0002  6.00359        43.19      0        1          1   1  \n",
       "MB-0005  4.58987        48.87      1        1          0   1  \n",
       "MB-0006  6.42802        47.68      1        1          1   1  \n",
       "MB-0008  5.65834        76.97      1        1          1   1  \n",
       "\n",
       "[5 rows x 21 columns]"
      ]
     },
     "execution_count": 56,
     "metadata": {},
     "output_type": "execute_result"
    }
   ],
   "source": [
    "metabric_exp_cln.head()"
   ]
  },
  {
   "cell_type": "code",
   "execution_count": 57,
   "metadata": {},
   "outputs": [
    {
     "data": {
      "text/html": [
       "<div>\n",
       "<style>\n",
       "    .dataframe thead tr:only-child th {\n",
       "        text-align: right;\n",
       "    }\n",
       "\n",
       "    .dataframe thead th {\n",
       "        text-align: left;\n",
       "    }\n",
       "\n",
       "    .dataframe tbody tr th {\n",
       "        vertical-align: top;\n",
       "    }\n",
       "</style>\n",
       "<table border=\"1\" class=\"dataframe\">\n",
       "  <thead>\n",
       "    <tr style=\"text-align: right;\">\n",
       "      <th></th>\n",
       "      <th>0</th>\n",
       "      <th>1</th>\n",
       "      <th>2</th>\n",
       "      <th>3</th>\n",
       "      <th>4</th>\n",
       "      <th>5</th>\n",
       "      <th>6</th>\n",
       "      <th>7</th>\n",
       "      <th>8</th>\n",
       "      <th>9</th>\n",
       "      <th>...</th>\n",
       "      <th>11</th>\n",
       "      <th>12</th>\n",
       "      <th>13</th>\n",
       "      <th>14</th>\n",
       "      <th>15</th>\n",
       "      <th>ageDiagnosis</th>\n",
       "      <th>chemo</th>\n",
       "      <th>hormone</th>\n",
       "      <th>radiation</th>\n",
       "      <th>ER</th>\n",
       "    </tr>\n",
       "  </thead>\n",
       "  <tbody>\n",
       "    <tr>\n",
       "      <th>MB-0455</th>\n",
       "      <td>9.10932</td>\n",
       "      <td>9.21805</td>\n",
       "      <td>5.61896</td>\n",
       "      <td>6.29255</td>\n",
       "      <td>8.10292</td>\n",
       "      <td>9.23769</td>\n",
       "      <td>7.67118</td>\n",
       "      <td>5.68805</td>\n",
       "      <td>5.67988</td>\n",
       "      <td>11.944</td>\n",
       "      <td>...</td>\n",
       "      <td>5.90325</td>\n",
       "      <td>11.4555</td>\n",
       "      <td>6.05784</td>\n",
       "      <td>6.85875</td>\n",
       "      <td>7.40768</td>\n",
       "      <td>56.84</td>\n",
       "      <td>0</td>\n",
       "      <td>1</td>\n",
       "      <td>1</td>\n",
       "      <td>1</td>\n",
       "    </tr>\n",
       "  </tbody>\n",
       "</table>\n",
       "<p>1 rows × 21 columns</p>\n",
       "</div>"
      ],
      "text/plain": [
       "               0        1        2        3        4        5        6  \\\n",
       "MB-0455  9.10932  9.21805  5.61896  6.29255  8.10292  9.23769  7.67118   \n",
       "\n",
       "               7        8       9 ...       11       12       13       14  \\\n",
       "MB-0455  5.68805  5.67988  11.944 ...  5.90325  11.4555  6.05784  6.85875   \n",
       "\n",
       "              15 ageDiagnosis  chemo  hormone  radiation  ER  \n",
       "MB-0455  7.40768        56.84      0        1          1   1  \n",
       "\n",
       "[1 rows x 21 columns]"
      ]
     },
     "execution_count": 57,
     "metadata": {},
     "output_type": "execute_result"
    }
   ],
   "source": [
    "metabric_exp_cln[metabric_df['ageDiagnosis']==56.84]"
   ]
  },
  {
   "cell_type": "code",
   "execution_count": 49,
   "metadata": {
    "collapsed": true
   },
   "outputs": [],
   "source": [
    "jared_path = \"/Users/yutaro/Desktop/brca_metabric\""
   ]
  },
  {
   "cell_type": "code",
   "execution_count": 51,
   "metadata": {
    "collapsed": true
   },
   "outputs": [],
   "source": [
    "import numpy as np"
   ]
  },
  {
   "cell_type": "code",
   "execution_count": 52,
   "metadata": {
    "collapsed": true
   },
   "outputs": [],
   "source": [
    "metabric_Time_Event = pd.read_csv(jared_path+'/data_clinical_supp_patient.txt', sep='\\t')\n",
    "metabric_Time_Event = metabric_Time_Event.set_index('PATIENT_ID')[['OS_MONTHS', 'OS_STATUS']]\n",
    "metabric_Time_Event['OS_STATUS'] = (metabric_Time_Event['OS_STATUS'] == 'DECEASED').astype(np.int32)"
   ]
  },
  {
   "cell_type": "code",
   "execution_count": 53,
   "metadata": {},
   "outputs": [
    {
     "data": {
      "text/html": [
       "<div>\n",
       "<style>\n",
       "    .dataframe thead tr:only-child th {\n",
       "        text-align: right;\n",
       "    }\n",
       "\n",
       "    .dataframe thead th {\n",
       "        text-align: left;\n",
       "    }\n",
       "\n",
       "    .dataframe tbody tr th {\n",
       "        vertical-align: top;\n",
       "    }\n",
       "</style>\n",
       "<table border=\"1\" class=\"dataframe\">\n",
       "  <thead>\n",
       "    <tr style=\"text-align: right;\">\n",
       "      <th></th>\n",
       "      <th>OS_MONTHS</th>\n",
       "      <th>OS_STATUS</th>\n",
       "    </tr>\n",
       "    <tr>\n",
       "      <th>PATIENT_ID</th>\n",
       "      <th></th>\n",
       "      <th></th>\n",
       "    </tr>\n",
       "  </thead>\n",
       "  <tbody>\n",
       "    <tr>\n",
       "      <th>MB-0000</th>\n",
       "      <td>140.500000</td>\n",
       "      <td>0</td>\n",
       "    </tr>\n",
       "    <tr>\n",
       "      <th>MB-0002</th>\n",
       "      <td>84.633333</td>\n",
       "      <td>0</td>\n",
       "    </tr>\n",
       "    <tr>\n",
       "      <th>MB-0005</th>\n",
       "      <td>163.100000</td>\n",
       "      <td>1</td>\n",
       "    </tr>\n",
       "    <tr>\n",
       "      <th>MB-0006</th>\n",
       "      <td>164.933333</td>\n",
       "      <td>0</td>\n",
       "    </tr>\n",
       "    <tr>\n",
       "      <th>MB-0008</th>\n",
       "      <td>41.366667</td>\n",
       "      <td>1</td>\n",
       "    </tr>\n",
       "  </tbody>\n",
       "</table>\n",
       "</div>"
      ],
      "text/plain": [
       "             OS_MONTHS  OS_STATUS\n",
       "PATIENT_ID                       \n",
       "MB-0000     140.500000          0\n",
       "MB-0002      84.633333          0\n",
       "MB-0005     163.100000          1\n",
       "MB-0006     164.933333          0\n",
       "MB-0008      41.366667          1"
      ]
     },
     "execution_count": 53,
     "metadata": {},
     "output_type": "execute_result"
    }
   ],
   "source": [
    "metabric_Time_Event.head()"
   ]
  },
  {
   "cell_type": "code",
   "execution_count": 58,
   "metadata": {
    "collapsed": true
   },
   "outputs": [],
   "source": [
    "from sklearn.model_selection import train_test_split\n"
   ]
  },
  {
   "cell_type": "code",
   "execution_count": 77,
   "metadata": {
    "collapsed": true
   },
   "outputs": [],
   "source": [
    "metabric_df = metabric_exp_cln.join(metabric_Time_Event)"
   ]
  },
  {
   "cell_type": "code",
   "execution_count": 79,
   "metadata": {},
   "outputs": [
    {
     "data": {
      "text/plain": [
       "(1981, 23)"
      ]
     },
     "execution_count": 79,
     "metadata": {},
     "output_type": "execute_result"
    }
   ],
   "source": [
    "metabric_df.shape"
   ]
  },
  {
   "cell_type": "code",
   "execution_count": 81,
   "metadata": {},
   "outputs": [
    {
     "data": {
      "text/plain": [
       "0                0\n",
       "1                0\n",
       "2                0\n",
       "3                0\n",
       "4                0\n",
       "5                0\n",
       "6                0\n",
       "7                0\n",
       "8                0\n",
       "9                0\n",
       "10               0\n",
       "11               0\n",
       "12               0\n",
       "13               0\n",
       "14               0\n",
       "15               0\n",
       "ageDiagnosis     0\n",
       "chemo            0\n",
       "hormone          0\n",
       "radiation        0\n",
       "ER               0\n",
       "OS_MONTHS       12\n",
       "OS_STATUS       12\n",
       "dtype: int64"
      ]
     },
     "execution_count": 81,
     "metadata": {},
     "output_type": "execute_result"
    }
   ],
   "source": [
    "metabric_df.isnull().sum()"
   ]
  },
  {
   "cell_type": "code",
   "execution_count": 83,
   "metadata": {
    "collapsed": true
   },
   "outputs": [],
   "source": [
    "metabric_df = metabric_df[pd.notnull(metabric_df['OS_MONTHS'])]"
   ]
  },
  {
   "cell_type": "code",
   "execution_count": 85,
   "metadata": {
    "collapsed": true
   },
   "outputs": [],
   "source": [
    "metabric_df = metabric_df[pd.notnull(metabric_df['OS_STATUS'])]"
   ]
  },
  {
   "cell_type": "code",
   "execution_count": 86,
   "metadata": {},
   "outputs": [
    {
     "data": {
      "text/plain": [
       "(1969, 23)"
      ]
     },
     "execution_count": 86,
     "metadata": {},
     "output_type": "execute_result"
    }
   ],
   "source": [
    "metabric_df.shape"
   ]
  },
  {
   "cell_type": "code",
   "execution_count": 87,
   "metadata": {
    "collapsed": true
   },
   "outputs": [],
   "source": [
    "metabric_train_df, metabric_test_df = train_test_split(metabric_df, test_size = 0.2)"
   ]
  },
  {
   "cell_type": "code",
   "execution_count": 88,
   "metadata": {},
   "outputs": [
    {
     "data": {
      "text/html": [
       "<div>\n",
       "<style>\n",
       "    .dataframe thead tr:only-child th {\n",
       "        text-align: right;\n",
       "    }\n",
       "\n",
       "    .dataframe thead th {\n",
       "        text-align: left;\n",
       "    }\n",
       "\n",
       "    .dataframe tbody tr th {\n",
       "        vertical-align: top;\n",
       "    }\n",
       "</style>\n",
       "<table border=\"1\" class=\"dataframe\">\n",
       "  <thead>\n",
       "    <tr style=\"text-align: right;\">\n",
       "      <th></th>\n",
       "      <th>0</th>\n",
       "      <th>1</th>\n",
       "      <th>2</th>\n",
       "      <th>3</th>\n",
       "      <th>4</th>\n",
       "      <th>5</th>\n",
       "      <th>6</th>\n",
       "      <th>7</th>\n",
       "      <th>8</th>\n",
       "      <th>9</th>\n",
       "      <th>...</th>\n",
       "      <th>13</th>\n",
       "      <th>14</th>\n",
       "      <th>15</th>\n",
       "      <th>ageDiagnosis</th>\n",
       "      <th>chemo</th>\n",
       "      <th>hormone</th>\n",
       "      <th>radiation</th>\n",
       "      <th>ER</th>\n",
       "      <th>OS_MONTHS</th>\n",
       "      <th>OS_STATUS</th>\n",
       "    </tr>\n",
       "  </thead>\n",
       "  <tbody>\n",
       "    <tr>\n",
       "      <th>MB-4626</th>\n",
       "      <td>7.9209</td>\n",
       "      <td>7.45029</td>\n",
       "      <td>5.30362</td>\n",
       "      <td>6.48053</td>\n",
       "      <td>6.08143</td>\n",
       "      <td>9.22619</td>\n",
       "      <td>7.01217</td>\n",
       "      <td>5.83672</td>\n",
       "      <td>5.95319</td>\n",
       "      <td>12.2346</td>\n",
       "      <td>...</td>\n",
       "      <td>6.29397</td>\n",
       "      <td>5.23065</td>\n",
       "      <td>5.66638</td>\n",
       "      <td>64.61</td>\n",
       "      <td>0</td>\n",
       "      <td>0</td>\n",
       "      <td>1</td>\n",
       "      <td>1</td>\n",
       "      <td>143.0</td>\n",
       "      <td>1.0</td>\n",
       "    </tr>\n",
       "    <tr>\n",
       "      <th>MB-5550</th>\n",
       "      <td>7.9383</td>\n",
       "      <td>9.24872</td>\n",
       "      <td>5.40393</td>\n",
       "      <td>5.82563</td>\n",
       "      <td>7.13398</td>\n",
       "      <td>7.45323</td>\n",
       "      <td>7.34971</td>\n",
       "      <td>5.69607</td>\n",
       "      <td>5.84402</td>\n",
       "      <td>10.8531</td>\n",
       "      <td>...</td>\n",
       "      <td>5.97965</td>\n",
       "      <td>8.59399</td>\n",
       "      <td>9.47321</td>\n",
       "      <td>84.30</td>\n",
       "      <td>0</td>\n",
       "      <td>1</td>\n",
       "      <td>0</td>\n",
       "      <td>1</td>\n",
       "      <td>171.3</td>\n",
       "      <td>1.0</td>\n",
       "    </tr>\n",
       "    <tr>\n",
       "      <th>MB-3350</th>\n",
       "      <td>8.52663</td>\n",
       "      <td>9.46443</td>\n",
       "      <td>5.60434</td>\n",
       "      <td>5.78419</td>\n",
       "      <td>8.10623</td>\n",
       "      <td>7.77228</td>\n",
       "      <td>6.59932</td>\n",
       "      <td>5.40556</td>\n",
       "      <td>5.90062</td>\n",
       "      <td>11.4904</td>\n",
       "      <td>...</td>\n",
       "      <td>6.72099</td>\n",
       "      <td>5.14013</td>\n",
       "      <td>6.19112</td>\n",
       "      <td>62.62</td>\n",
       "      <td>0</td>\n",
       "      <td>1</td>\n",
       "      <td>0</td>\n",
       "      <td>1</td>\n",
       "      <td>227.8</td>\n",
       "      <td>1.0</td>\n",
       "    </tr>\n",
       "    <tr>\n",
       "      <th>MB-5579</th>\n",
       "      <td>8.22473</td>\n",
       "      <td>8.26166</td>\n",
       "      <td>5.28548</td>\n",
       "      <td>6.05542</td>\n",
       "      <td>6.89966</td>\n",
       "      <td>8.05955</td>\n",
       "      <td>7.05672</td>\n",
       "      <td>5.75722</td>\n",
       "      <td>5.617</td>\n",
       "      <td>12.0502</td>\n",
       "      <td>...</td>\n",
       "      <td>5.99119</td>\n",
       "      <td>5.38385</td>\n",
       "      <td>6.69947</td>\n",
       "      <td>68.82</td>\n",
       "      <td>0</td>\n",
       "      <td>1</td>\n",
       "      <td>1</td>\n",
       "      <td>1</td>\n",
       "      <td>90.6</td>\n",
       "      <td>1.0</td>\n",
       "    </tr>\n",
       "    <tr>\n",
       "      <th>MB-5450</th>\n",
       "      <td>9.46083</td>\n",
       "      <td>7.83116</td>\n",
       "      <td>5.48715</td>\n",
       "      <td>5.47471</td>\n",
       "      <td>6.14086</td>\n",
       "      <td>10.5085</td>\n",
       "      <td>9.90806</td>\n",
       "      <td>5.42079</td>\n",
       "      <td>5.94029</td>\n",
       "      <td>11.4714</td>\n",
       "      <td>...</td>\n",
       "      <td>5.92872</td>\n",
       "      <td>4.84471</td>\n",
       "      <td>5.66145</td>\n",
       "      <td>38.92</td>\n",
       "      <td>0</td>\n",
       "      <td>0</td>\n",
       "      <td>1</td>\n",
       "      <td>0</td>\n",
       "      <td>190.2</td>\n",
       "      <td>0.0</td>\n",
       "    </tr>\n",
       "  </tbody>\n",
       "</table>\n",
       "<p>5 rows × 23 columns</p>\n",
       "</div>"
      ],
      "text/plain": [
       "               0        1        2        3        4        5        6  \\\n",
       "MB-4626   7.9209  7.45029  5.30362  6.48053  6.08143  9.22619  7.01217   \n",
       "MB-5550   7.9383  9.24872  5.40393  5.82563  7.13398  7.45323  7.34971   \n",
       "MB-3350  8.52663  9.46443  5.60434  5.78419  8.10623  7.77228  6.59932   \n",
       "MB-5579  8.22473  8.26166  5.28548  6.05542  6.89966  8.05955  7.05672   \n",
       "MB-5450  9.46083  7.83116  5.48715  5.47471  6.14086  10.5085  9.90806   \n",
       "\n",
       "               7        8        9    ...           13       14       15  \\\n",
       "MB-4626  5.83672  5.95319  12.2346    ...      6.29397  5.23065  5.66638   \n",
       "MB-5550  5.69607  5.84402  10.8531    ...      5.97965  8.59399  9.47321   \n",
       "MB-3350  5.40556  5.90062  11.4904    ...      6.72099  5.14013  6.19112   \n",
       "MB-5579  5.75722    5.617  12.0502    ...      5.99119  5.38385  6.69947   \n",
       "MB-5450  5.42079  5.94029  11.4714    ...      5.92872  4.84471  5.66145   \n",
       "\n",
       "        ageDiagnosis chemo hormone  radiation  ER  OS_MONTHS  OS_STATUS  \n",
       "MB-4626        64.61     0       0          1   1      143.0        1.0  \n",
       "MB-5550        84.30     0       1          0   1      171.3        1.0  \n",
       "MB-3350        62.62     0       1          0   1      227.8        1.0  \n",
       "MB-5579        68.82     0       1          1   1       90.6        1.0  \n",
       "MB-5450        38.92     0       0          1   0      190.2        0.0  \n",
       "\n",
       "[5 rows x 23 columns]"
      ]
     },
     "execution_count": 88,
     "metadata": {},
     "output_type": "execute_result"
    }
   ],
   "source": [
    "metabric_test_df.head()"
   ]
  },
  {
   "cell_type": "code",
   "execution_count": 89,
   "metadata": {
    "collapsed": true
   },
   "outputs": [],
   "source": [
    "mb_x_train = metabric_train_df.drop(['OS_MONTHS', 'OS_STATUS'], axis = 1).values.astype(np.float32)\n",
    "mb_e_train = metabric_train_df['OS_STATUS'].values.astype(np.int32)\n",
    "mb_t_train = metabric_train_df['OS_MONTHS'].values.astype(np.float32)\n",
    "mb_train = {'x': mb_x_train, 'e': mb_e_train, 't': mb_t_train}\n",
    "\n",
    "mb_x_test = metabric_test_df.drop(['OS_MONTHS', 'OS_STATUS'], axis = 1).values.astype(np.float32)\n",
    "mb_e_test = metabric_test_df['OS_STATUS'].values.astype(np.int32)\n",
    "mb_t_test = metabric_test_df['OS_MONTHS'].values.astype(np.float32)\n",
    "mb_test = {'x': mb_x_test, 'e': mb_e_test, 't': mb_t_test}\n",
    "\n",
    "metabric_ds = {'train' : mb_train, 'test': mb_test}"
   ]
  },
  {
   "cell_type": "code",
   "execution_count": 96,
   "metadata": {},
   "outputs": [
    {
     "data": {
      "text/plain": [
       "(1575, 21)"
      ]
     },
     "execution_count": 96,
     "metadata": {},
     "output_type": "execute_result"
    }
   ],
   "source": [
    "mb_x_train.shape"
   ]
  },
  {
   "cell_type": "code",
   "execution_count": 91,
   "metadata": {
    "collapsed": true
   },
   "outputs": [],
   "source": [
    "num = metabric_df.isnull()"
   ]
  },
  {
   "cell_type": "code",
   "execution_count": 92,
   "metadata": {},
   "outputs": [
    {
     "data": {
      "text/plain": [
       "0               0\n",
       "1               0\n",
       "2               0\n",
       "3               0\n",
       "4               0\n",
       "5               0\n",
       "6               0\n",
       "7               0\n",
       "8               0\n",
       "9               0\n",
       "10              0\n",
       "11              0\n",
       "12              0\n",
       "13              0\n",
       "14              0\n",
       "15              0\n",
       "ageDiagnosis    0\n",
       "chemo           0\n",
       "hormone         0\n",
       "radiation       0\n",
       "ER              0\n",
       "OS_MONTHS       0\n",
       "OS_STATUS       0\n",
       "dtype: int64"
      ]
     },
     "execution_count": 92,
     "metadata": {},
     "output_type": "execute_result"
    }
   ],
   "source": [
    "num.sum()"
   ]
  },
  {
   "cell_type": "code",
   "execution_count": 93,
   "metadata": {},
   "outputs": [
    {
     "data": {
      "text/plain": [
       "0               0\n",
       "1               0\n",
       "2               0\n",
       "3               0\n",
       "4               0\n",
       "5               0\n",
       "6               0\n",
       "7               0\n",
       "8               0\n",
       "9               0\n",
       "10              0\n",
       "11              0\n",
       "12              0\n",
       "13              0\n",
       "14              0\n",
       "15              0\n",
       "ageDiagnosis    0\n",
       "chemo           0\n",
       "hormone         0\n",
       "radiation       0\n",
       "ER              0\n",
       "OS_MONTHS       0\n",
       "OS_STATUS       0\n",
       "dtype: int64"
      ]
     },
     "execution_count": 93,
     "metadata": {},
     "output_type": "execute_result"
    }
   ],
   "source": [
    "len(metabric_df.index)-metabric_df.count()"
   ]
  },
  {
   "cell_type": "code",
   "execution_count": 68,
   "metadata": {},
   "outputs": [
    {
     "data": {
      "text/plain": [
       "1981"
      ]
     },
     "execution_count": 68,
     "metadata": {},
     "output_type": "execute_result"
    }
   ],
   "source": [
    "397+1584"
   ]
  },
  {
   "cell_type": "code",
   "execution_count": 69,
   "metadata": {},
   "outputs": [
    {
     "data": {
      "text/plain": [
       "1904"
      ]
     },
     "execution_count": 69,
     "metadata": {},
     "output_type": "execute_result"
    }
   ],
   "source": [
    "1523 + 381 "
   ]
  },
  {
   "cell_type": "code",
   "execution_count": 94,
   "metadata": {
    "collapsed": true
   },
   "outputs": [],
   "source": [
    "import h5py\n",
    "def save_dataset(datasets, file):\n",
    "    f = h5py.File(file)\n",
    "    for (grp, ds) in datasets.items():\n",
    "        grp_f = f.create_group(grp)\n",
    "        for (key, value) in ds.items():\n",
    "            print('Saving: (%s, %s)' % (grp, key))\n",
    "            grp_f.create_dataset(key, data=value)\n",
    "    f.close()"
   ]
  },
  {
   "cell_type": "code",
   "execution_count": 64,
   "metadata": {},
   "outputs": [
    {
     "name": "stdout",
     "output_type": "stream",
     "text": [
      "Saving: (train, t)\n",
      "Saving: (train, x)\n",
      "Saving: (train, e)\n",
      "Saving: (test, t)\n",
      "Saving: (test, x)\n",
      "Saving: (test, e)\n"
     ]
    }
   ],
   "source": []
  },
  {
   "cell_type": "code",
   "execution_count": 99,
   "metadata": {},
   "outputs": [
    {
     "name": "stdout",
     "output_type": "stream",
     "text": [
      "Saving: (train, t)\n",
      "Saving: (train, x)\n",
      "Saving: (train, e)\n",
      "Saving: (test, t)\n",
      "Saving: (test, x)\n",
      "Saving: (test, e)\n"
     ]
    }
   ],
   "source": [
    "save_dataset(metabric_ds, file='/Users/yutaro/GoogleDrive/github/BayesianFeature/data_preprocessing/oncotype_train_test.h5')"
   ]
  },
  {
   "cell_type": "code",
   "execution_count": 101,
   "metadata": {},
   "outputs": [
    {
     "data": {
      "text/plain": [
       "(1575, 21)"
      ]
     },
     "execution_count": 101,
     "metadata": {},
     "output_type": "execute_result"
    }
   ],
   "source": [
    "metabric_ds['train']['x'].shape"
   ]
  },
  {
   "cell_type": "code",
   "execution_count": null,
   "metadata": {
    "collapsed": true
   },
   "outputs": [],
   "source": []
  }
 ],
 "metadata": {
  "kernelspec": {
   "display_name": "Python 3",
   "language": "python",
   "name": "python3"
  },
  "language_info": {
   "codemirror_mode": {
    "name": "ipython",
    "version": 3
   },
   "file_extension": ".py",
   "mimetype": "text/x-python",
   "name": "python",
   "nbconvert_exporter": "python",
   "pygments_lexer": "ipython3",
   "version": "3.7.2"
  }
 },
 "nbformat": 4,
 "nbformat_minor": 2
}
