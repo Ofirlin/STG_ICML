{
 "cells": [
  {
   "cell_type": "code",
   "execution_count": 2,
   "metadata": {},
   "outputs": [
    {
     "name": "stdout",
     "output_type": "stream",
     "text": [
      "(16, 1982)\n"
     ]
    }
   ],
   "source": [
    "from pandas import DataFrame\n",
    "import pandas as pd\n",
    "import numpy as np\n",
    "\n",
    "df=pd.read_csv('metabric_oncotype.csv', sep=',')\n",
    "print(df.shape)"
   ]
  },
  {
   "cell_type": "code",
   "execution_count": 10,
   "metadata": {},
   "outputs": [
    {
     "data": {
      "text/html": [
       "<div>\n",
       "<style>\n",
       "    .dataframe thead tr:only-child th {\n",
       "        text-align: right;\n",
       "    }\n",
       "\n",
       "    .dataframe thead th {\n",
       "        text-align: left;\n",
       "    }\n",
       "\n",
       "    .dataframe tbody tr th {\n",
       "        vertical-align: top;\n",
       "    }\n",
       "</style>\n",
       "<table border=\"1\" class=\"dataframe\">\n",
       "  <thead>\n",
       "    <tr style=\"text-align: right;\">\n",
       "      <th></th>\n",
       "      <th>Unnamed: 0</th>\n",
       "      <th>MB-0000</th>\n",
       "      <th>MB-0002</th>\n",
       "      <th>MB-0005</th>\n",
       "      <th>MB-0006</th>\n",
       "      <th>MB-0008</th>\n",
       "      <th>MB-0010</th>\n",
       "      <th>MB-0014</th>\n",
       "      <th>MB-0020</th>\n",
       "      <th>MB-0022</th>\n",
       "      <th>...</th>\n",
       "      <th>MB-7289</th>\n",
       "      <th>MB-7291</th>\n",
       "      <th>MB-7292</th>\n",
       "      <th>MB-7293</th>\n",
       "      <th>MB-7294</th>\n",
       "      <th>MB-7295</th>\n",
       "      <th>MB-7296</th>\n",
       "      <th>MB-7297</th>\n",
       "      <th>MB-7298</th>\n",
       "      <th>MB-7299</th>\n",
       "    </tr>\n",
       "  </thead>\n",
       "  <tbody>\n",
       "    <tr>\n",
       "      <th>0</th>\n",
       "      <td>ILMN_1712803</td>\n",
       "      <td>7.566248</td>\n",
       "      <td>8.234769</td>\n",
       "      <td>8.039011</td>\n",
       "      <td>8.092238</td>\n",
       "      <td>8.415585</td>\n",
       "      <td>9.441947</td>\n",
       "      <td>7.377896</td>\n",
       "      <td>8.129803</td>\n",
       "      <td>7.957244</td>\n",
       "      <td>...</td>\n",
       "      <td>7.490149</td>\n",
       "      <td>9.267474</td>\n",
       "      <td>8.673989</td>\n",
       "      <td>7.987161</td>\n",
       "      <td>8.238265</td>\n",
       "      <td>8.343426</td>\n",
       "      <td>10.313008</td>\n",
       "      <td>9.167447</td>\n",
       "      <td>9.141524</td>\n",
       "      <td>8.292088</td>\n",
       "    </tr>\n",
       "    <tr>\n",
       "      <th>1</th>\n",
       "      <td>ILMN_1801119</td>\n",
       "      <td>9.194468</td>\n",
       "      <td>9.347922</td>\n",
       "      <td>7.898182</td>\n",
       "      <td>8.375892</td>\n",
       "      <td>7.529758</td>\n",
       "      <td>7.633688</td>\n",
       "      <td>8.423105</td>\n",
       "      <td>7.519424</td>\n",
       "      <td>7.711814</td>\n",
       "      <td>...</td>\n",
       "      <td>8.105384</td>\n",
       "      <td>8.051600</td>\n",
       "      <td>7.838903</td>\n",
       "      <td>8.674428</td>\n",
       "      <td>9.250107</td>\n",
       "      <td>8.243982</td>\n",
       "      <td>7.056036</td>\n",
       "      <td>8.169844</td>\n",
       "      <td>8.699038</td>\n",
       "      <td>9.466155</td>\n",
       "    </tr>\n",
       "    <tr>\n",
       "      <th>2</th>\n",
       "      <td>ILMN_1798582</td>\n",
       "      <td>5.446027</td>\n",
       "      <td>5.215258</td>\n",
       "      <td>5.370917</td>\n",
       "      <td>5.807287</td>\n",
       "      <td>5.248290</td>\n",
       "      <td>5.196820</td>\n",
       "      <td>5.485749</td>\n",
       "      <td>5.329218</td>\n",
       "      <td>5.413597</td>\n",
       "      <td>...</td>\n",
       "      <td>5.515532</td>\n",
       "      <td>5.848470</td>\n",
       "      <td>5.427589</td>\n",
       "      <td>4.998609</td>\n",
       "      <td>5.436549</td>\n",
       "      <td>5.216262</td>\n",
       "      <td>7.018904</td>\n",
       "      <td>5.431922</td>\n",
       "      <td>5.023287</td>\n",
       "      <td>5.066947</td>\n",
       "    </tr>\n",
       "    <tr>\n",
       "      <th>3</th>\n",
       "      <td>ILMN_1740762</td>\n",
       "      <td>5.783666</td>\n",
       "      <td>5.619311</td>\n",
       "      <td>5.815330</td>\n",
       "      <td>6.870478</td>\n",
       "      <td>5.807233</td>\n",
       "      <td>5.424632</td>\n",
       "      <td>5.672798</td>\n",
       "      <td>6.070664</td>\n",
       "      <td>5.566895</td>\n",
       "      <td>...</td>\n",
       "      <td>5.608964</td>\n",
       "      <td>7.631197</td>\n",
       "      <td>5.577279</td>\n",
       "      <td>5.621334</td>\n",
       "      <td>5.995631</td>\n",
       "      <td>5.643665</td>\n",
       "      <td>9.230390</td>\n",
       "      <td>5.487706</td>\n",
       "      <td>5.279934</td>\n",
       "      <td>5.342260</td>\n",
       "    </tr>\n",
       "    <tr>\n",
       "      <th>4</th>\n",
       "      <td>ILMN_1811014</td>\n",
       "      <td>6.438076</td>\n",
       "      <td>7.915855</td>\n",
       "      <td>8.010756</td>\n",
       "      <td>7.213844</td>\n",
       "      <td>7.905295</td>\n",
       "      <td>6.430311</td>\n",
       "      <td>8.329426</td>\n",
       "      <td>6.261636</td>\n",
       "      <td>5.587786</td>\n",
       "      <td>...</td>\n",
       "      <td>7.220279</td>\n",
       "      <td>5.679176</td>\n",
       "      <td>7.384622</td>\n",
       "      <td>6.901147</td>\n",
       "      <td>7.808446</td>\n",
       "      <td>8.597789</td>\n",
       "      <td>6.166385</td>\n",
       "      <td>7.870488</td>\n",
       "      <td>8.721391</td>\n",
       "      <td>5.898142</td>\n",
       "    </tr>\n",
       "  </tbody>\n",
       "</table>\n",
       "<p>5 rows × 1982 columns</p>\n",
       "</div>"
      ],
      "text/plain": [
       "     Unnamed: 0   MB-0000   MB-0002   MB-0005   MB-0006   MB-0008   MB-0010  \\\n",
       "0  ILMN_1712803  7.566248  8.234769  8.039011  8.092238  8.415585  9.441947   \n",
       "1  ILMN_1801119  9.194468  9.347922  7.898182  8.375892  7.529758  7.633688   \n",
       "2  ILMN_1798582  5.446027  5.215258  5.370917  5.807287  5.248290  5.196820   \n",
       "3  ILMN_1740762  5.783666  5.619311  5.815330  6.870478  5.807233  5.424632   \n",
       "4  ILMN_1811014  6.438076  7.915855  8.010756  7.213844  7.905295  6.430311   \n",
       "\n",
       "    MB-0014   MB-0020   MB-0022    ...      MB-7289   MB-7291   MB-7292  \\\n",
       "0  7.377896  8.129803  7.957244    ...     7.490149  9.267474  8.673989   \n",
       "1  8.423105  7.519424  7.711814    ...     8.105384  8.051600  7.838903   \n",
       "2  5.485749  5.329218  5.413597    ...     5.515532  5.848470  5.427589   \n",
       "3  5.672798  6.070664  5.566895    ...     5.608964  7.631197  5.577279   \n",
       "4  8.329426  6.261636  5.587786    ...     7.220279  5.679176  7.384622   \n",
       "\n",
       "    MB-7293   MB-7294   MB-7295    MB-7296   MB-7297   MB-7298   MB-7299  \n",
       "0  7.987161  8.238265  8.343426  10.313008  9.167447  9.141524  8.292088  \n",
       "1  8.674428  9.250107  8.243982   7.056036  8.169844  8.699038  9.466155  \n",
       "2  4.998609  5.436549  5.216262   7.018904  5.431922  5.023287  5.066947  \n",
       "3  5.621334  5.995631  5.643665   9.230390  5.487706  5.279934  5.342260  \n",
       "4  6.901147  7.808446  8.597789   6.166385  7.870488  8.721391  5.898142  \n",
       "\n",
       "[5 rows x 1982 columns]"
      ]
     },
     "execution_count": 10,
     "metadata": {},
     "output_type": "execute_result"
    }
   ],
   "source": [
    "df.head()"
   ]
  },
  {
   "cell_type": "code",
   "execution_count": 15,
   "metadata": {},
   "outputs": [],
   "source": [
    "a = df.iloc[:, 0].values"
   ]
  },
  {
   "cell_type": "code",
   "execution_count": 17,
   "metadata": {},
   "outputs": [],
   "source": [
    "b = [a, a, a]"
   ]
  },
  {
   "cell_type": "code",
   "execution_count": 23,
   "metadata": {},
   "outputs": [],
   "source": [
    "c = np.array(b).reshape(-1)"
   ]
  },
  {
   "cell_type": "code",
   "execution_count": 21,
   "metadata": {},
   "outputs": [],
   "source": [
    "d = c.reshape(-1)"
   ]
  },
  {
   "cell_type": "code",
   "execution_count": 24,
   "metadata": {},
   "outputs": [
    {
     "data": {
      "text/plain": [
       "(48,)"
      ]
     },
     "execution_count": 24,
     "metadata": {},
     "output_type": "execute_result"
    }
   ],
   "source": [
    "c.shape"
   ]
  },
  {
   "cell_type": "code",
   "execution_count": 6,
   "metadata": {},
   "outputs": [],
   "source": [
    "df_var_array = df.var(axis=0).values"
   ]
  },
  {
   "cell_type": "code",
   "execution_count": 7,
   "metadata": {},
   "outputs": [
    {
     "name": "stdout",
     "output_type": "stream",
     "text": [
      "1.5992822695107856\n"
     ]
    }
   ],
   "source": [
    "print(df_var_array.min())"
   ]
  },
  {
   "cell_type": "code",
   "execution_count": 8,
   "metadata": {},
   "outputs": [
    {
     "name": "stdout",
     "output_type": "stream",
     "text": [
      "7.448665092547584\n"
     ]
    }
   ],
   "source": [
    "print(df_var_array.max())"
   ]
  },
  {
   "cell_type": "code",
   "execution_count": 9,
   "metadata": {},
   "outputs": [
    {
     "name": "stdout",
     "output_type": "stream",
     "text": [
      "4.270990270540428\n"
     ]
    }
   ],
   "source": [
    "print(df_var_array.mean())"
   ]
  },
  {
   "cell_type": "code",
   "execution_count": null,
   "metadata": {
    "collapsed": true
   },
   "outputs": [],
   "source": []
  }
 ],
 "metadata": {
  "kernelspec": {
   "display_name": "Python 3",
   "language": "python",
   "name": "python3"
  },
  "language_info": {
   "codemirror_mode": {
    "name": "ipython",
    "version": 3
   },
   "file_extension": ".py",
   "mimetype": "text/x-python",
   "name": "python",
   "nbconvert_exporter": "python",
   "pygments_lexer": "ipython3",
   "version": "3.7.2"
  }
 },
 "nbformat": 4,
 "nbformat_minor": 2
}
